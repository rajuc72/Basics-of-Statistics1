{
  "nbformat": 4,
  "nbformat_minor": 0,
  "metadata": {
    "colab": {
      "provenance": []
    },
    "kernelspec": {
      "name": "python3",
      "display_name": "Python 3"
    },
    "language_info": {
      "name": "python"
    }
  },
  "cells": [
    {
      "cell_type": "markdown",
      "source": [
        "# Basics of Statistics (Mean,Mode, Median)\n",
        "\n",
        "####1)Explain the different types of data (qualitative and quantitative) and provide examples of each. Discuss nominal, ordinal, interval, and ratio scales.\n",
        "Ans :  Data is nothing but pieces of information that can be organized, manipulated and stored . Essentially Data is classified into two categories i.e Quantitative and Qualitative Data .\n",
        "In simple words Quantitative data talks about the numerical data i.e  no.of pens, no.od cars, heights weights and so on. We can perform arithmetic calculations.\n",
        "Qualitative data talks about non-numerical data i.e gender, location, rank and etc ..\n",
        "We can measure or scaling the data in four different ways such as Nominal, Ordinal, Interval and Rational .\n",
        "Nominal scale data: It doesn’t have a specific order I mean we cant say which observation should be organized first . Ex: Gender, Region\n",
        "Ordinal Scaling Data : It has order , Ex: rank, position, level and etc  \n",
        "Interval Scaling Data: The starting position of the data need not be a ‘zero’. Ex: Temperature , Time , score and rank etc.\n",
        "Ratio Scale Date: The starting position can be set as ‘zero’ and can compare the ratio’s .\n",
        "Ex: Weight, height and etc.\n",
        "\n",
        "####2) What are the measures of central tendency, and when should you use each? Discuss the mean, median, and mode with examples and situations where each is appropriate?\n",
        "\tAns: Central Tendency is noting but representing the data in one datapoint.\n",
        "Mean: Is the average of a dataset, we can understand that most of the data spread around and has almost same characteristics of the Mean of the dataset, mean is a middle value of a dataset.\n",
        "Usage: Where Data without outliers we can use Mean because it is very sensitive to Outliers.\n",
        "Mean= (sum of all elements)/N\n",
        "Median: Median is nothing but middle most observation/value of a Dataset . We can find out the Median after arranging the data in an order.\n",
        "Usage: Where we have Skewed data or outliers.\n",
        "Mode: In simple words, Mode is the value/observation which is repeated most of the times In the dataset.\n",
        "Usage: Where we need to find out the most common value in the dataset.\n",
        "\n",
        "####3)Explain the concept of dispersion. How do variance and standard deviation measure the spread of data?\n",
        "Ans:Dispersion is a statistical term that describes the spread or variability of a set of data points. It indicates how much the data points deviate from the mean (average) value.\n",
        "•\tVariance measures the average degree to which each point differs from the mean. It is calculated by taking the average of the squared differences from the mean.\n",
        "•\tStandard Deviation is the square root of the variance and provides a measure of the dispersion in the same units as the data itself.\n",
        "\n",
        "\n",
        "####4)What is a box plot, and what can it tell you about the distribution of data?\n",
        "Ans:A box plot (or Whisker plot) is a graphical representation that shows data distribution based on a five-point summary: minimum, first quartile (25%), median (50%), third quartile (75%), and maximum. It displays the central tendency, variability, and skewness of the data. Common box plot features include:\n",
        "•\tBox: Represents the interquartile range (IQR).\n",
        "•\tWhiskers: Indicate variability outside the upper and lower quartiles.\n",
        "•\tOutliers: Data points outside the whiskers.\n",
        "\n",
        "####5)Discuss the role of random sampling in making inferences about populations?\n",
        "Ans: Random sampling is a method of selecting a subset of individuals from a population to estimate characteristics of the entire population. It ensures each member of the population has an equal chance of being selected, which helps eliminate bias and allows for more reliable and generalizable inferences.\n",
        "\n",
        "####6)Explain the concept of skewness and its types. How does skewness affect the interpretation of data?\n",
        "Ans: Skewness measures the asymmetry of a probability distribution of a real-valued random variable about its mean.\n",
        "•\tPositive skew (right skew): Long tail on the right side.\n",
        "•\tNegative skew (left skew): Long tail on the left side.\n",
        "•\tNo skew: Symmetrical distribution.\n",
        "Skewness affects data interpretation as it identifies deviations from a normal distribution. High skewness can impact the mean and median.\n",
        "\n",
        "####7)What is the interquartile range (IQR), and how is it used to detect outliers?  \n",
        "Ans: The IQR is the range between the first quartile (Q1) and third quartile (Q3). It measures the middle 50% of a dataset.\n",
        "IQR=Q3−Q1\n",
        "•\tOutliers: Points that lie below Q1 - 1.5IQR or above Q3 + 1.5IQR are considered outliers.\n",
        "\n",
        "####8)Discuss the conditions under which the binomial distribution is used?  \n",
        "Ans: The binomial distribution is used when:\n",
        "•\tThere are a fixed number of trials.\n",
        "•\tEach trial has two possible outcomes (success or failure).\n",
        "•\tThe probability of success is the same for each trial.\n",
        "•\tTrials are independent.\n",
        "\n",
        "####9)Explain the properties of the normal distribution and the empirical rule (68-95-99.7 rule).  \n",
        "Ans: The normal distribution is a bell-shaped curve where most data points cluster around the mean. Properties include:\n",
        "•\tSymmetrical about the mean.\n",
        "•\tMean, median, and mode are equal.\n",
        "Empirical Rule (68-95-99.7 Rule):\n",
        "•\t68% of data falls within 1 standard deviation of the mean.\n",
        "•\t95% falls within 2 standard deviations.\n",
        "•\t99.7% falls within 3 standard deviations.\n",
        "\n",
        "####10)Provide a real-life example of a Poisson process and calculate the probability for a specific event .\n",
        "Ans: A Poisson process models events occurring randomly over a fixed interval. For instance, the number of cars passing through a toll booth per hour.\n",
        "\n",
        "####11)Explain what a random variable is and differentiate between discrete and continuous random variables.\n",
        "Ans: A random variable is a variable whose values depend on outcomes of a random phenomenon.\n",
        "•\tDiscrete random variable: Takes on a finite number of distinct values (e.g., number of heads in coin tosses).\n",
        "•\tContinuous random variable: Takes on an infinite number of possible values (e.g., weight, height).\n",
        "\n",
        "\n",
        "####12)Provide an example dataset, calculate both covariance and correlation, and interpret the results .\n",
        "Covariance: Measures how two variables change together.\n",
        "Cov(X, Y) = {sum (Xi – X bar)(Yi – Y bar)}/{n-1} = 5\n",
        "Correlation: Standardized measure of covariance, ranges from -1 to 1.\n",
        "Corr(X,Y)= {Cov}(X, Y)}{\\sigma_X \\sigma_Y} = 1\n",
        "Interpretation: A covariance of 5 indicates a positive relationship, and a correlation of 1 indicates a perfect positive linear relationship.\n"
      ],
      "metadata": {
        "id": "UGYuEl7I2pac"
      }
    },
    {
      "cell_type": "code",
      "execution_count": null,
      "metadata": {
        "id": "uaUNJqhh2iqV"
      },
      "outputs": [],
      "source": []
    }
  ]
}